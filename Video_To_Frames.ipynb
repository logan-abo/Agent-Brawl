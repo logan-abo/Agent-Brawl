{
  "nbformat": 4,
  "nbformat_minor": 0,
  "metadata": {
    "colab": {
      "provenance": [],
      "authorship_tag": "ABX9TyOmC1/C8g8PCSBvgxXGgAkc",
      "include_colab_link": true
    },
    "kernelspec": {
      "name": "python3",
      "display_name": "Python 3"
    },
    "language_info": {
      "name": "python"
    }
  },
  "cells": [
    {
      "cell_type": "markdown",
      "metadata": {
        "id": "view-in-github",
        "colab_type": "text"
      },
      "source": [
        "<a href=\"https://colab.research.google.com/github/logan-abo/Agent-Brawl/blob/main/Video_To_Frames.ipynb\" target=\"_parent\"><img src=\"https://colab.research.google.com/assets/colab-badge.svg\" alt=\"Open In Colab\"/></a>"
      ]
    },
    {
      "cell_type": "code",
      "source": [
        "# !pip install ipyevents\n",
        "# !jupyter nbextension enable --py widgetsnbextension"
      ],
      "metadata": {
        "collapsed": true,
        "id": "JWXE3QpFKJfA"
      },
      "execution_count": null,
      "outputs": []
    },
    {
      "cell_type": "code",
      "execution_count": null,
      "metadata": {
        "id": "dsTXzxd8-ek2"
      },
      "outputs": [],
      "source": [
        "from google.colab import drive\n",
        "import cv2\n",
        "import random\n",
        "import os\n",
        "import uuid"
      ]
    },
    {
      "cell_type": "markdown",
      "source": [
        "## RANDOM IMAGES FROM VIDEO"
      ],
      "metadata": {
        "id": "Z26ij0NIIihq"
      }
    },
    {
      "cell_type": "code",
      "source": [
        "drive.mount('/content/drive')\n",
        "\n",
        "video_path = \"/content/drive/MyDrive/ML/PURE_GUS.mp4\""
      ],
      "metadata": {
        "colab": {
          "base_uri": "https://localhost:8080/"
        },
        "id": "kXYaEb3vG-oh",
        "outputId": "7f78a07b-2c8e-4be7-80c3-93eb6052810c"
      },
      "execution_count": null,
      "outputs": [
        {
          "output_type": "stream",
          "name": "stdout",
          "text": [
            "Mounted at /content/drive\n"
          ]
        }
      ]
    },
    {
      "cell_type": "code",
      "source": [
        "def extract_random_frames_fast(video_path, num_frames):\n",
        "    # Use existing PURE_DATA folder in same directory as video\n",
        "    parent_dir = os.path.dirname(video_path)\n",
        "    output_dir = os.path.join(parent_dir, \"PURE_DATA\")\n",
        "\n",
        "    if not os.path.exists(output_dir):\n",
        "        raise FileNotFoundError(f\"{output_dir} does not exist. Please create it first.\")\n",
        "\n",
        "    cap = cv2.VideoCapture(video_path)\n",
        "    total_frames = int(cap.get(cv2.CAP_PROP_FRAME_COUNT))\n",
        "\n",
        "    if num_frames > total_frames:\n",
        "        raise ValueError(\"Requested more frames than available in video.\")\n",
        "\n",
        "    frame_indices = sorted(random.sample(range(total_frames), num_frames))\n",
        "\n",
        "    for idx in frame_indices:\n",
        "        cap.set(cv2.CAP_PROP_POS_FRAMES, idx)\n",
        "        ret, frame = cap.read()\n",
        "        if ret:\n",
        "            filename = os.path.join(output_dir, f\"{uuid.uuid4().hex}.jpg\")\n",
        "            cv2.imwrite(filename, frame)\n",
        "\n",
        "    cap.release()\n",
        "    print(f\"Saved {len(frame_indices)} frames to '{output_dir}'\")"
      ],
      "metadata": {
        "id": "6_gjD-I_Cz2u"
      },
      "execution_count": null,
      "outputs": []
    },
    {
      "cell_type": "code",
      "source": [
        "extract_random_frames_fast(video_path, 200)\n",
        "extract_random_frames_fast(\"/content/drive/MyDrive/ML/PURE_LOU.mp4\", 200)\n",
        "extract_random_frames_fast(\"/content/drive/MyDrive/ML/PURE_BEA.mp4\", 200)\n",
        "extract_random_frames_fast(\"/content/drive/MyDrive/ML/PURE_ASH.mp4\", 200)"
      ],
      "metadata": {
        "id": "IneYy1x8EK3Q",
        "colab": {
          "base_uri": "https://localhost:8080/"
        },
        "outputId": "54731330-4aac-47d4-fce9-24fcd3d81ce0"
      },
      "execution_count": null,
      "outputs": [
        {
          "output_type": "stream",
          "name": "stdout",
          "text": [
            "Saved 200 frames to '/content/drive/MyDrive/ML/PURE_DATA'\n",
            "Saved 200 frames to '/content/drive/MyDrive/ML/PURE_DATA'\n",
            "Saved 200 frames to '/content/drive/MyDrive/ML/PURE_DATA'\n",
            "Saved 200 frames to '/content/drive/MyDrive/ML/PURE_DATA'\n"
          ]
        }
      ]
    }
  ]
}